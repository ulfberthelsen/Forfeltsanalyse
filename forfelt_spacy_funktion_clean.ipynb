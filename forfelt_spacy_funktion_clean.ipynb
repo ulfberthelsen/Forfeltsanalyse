{
 "cells": [
  {
   "cell_type": "markdown",
   "metadata": {},
   "source": [
    "# Forberedelse"
   ]
  },
  {
   "cell_type": "code",
   "execution_count": 11,
   "metadata": {},
   "outputs": [],
   "source": [
    "\n",
    "import spacy\n",
    "nlp = spacy.load(\"da_core_news_lg\")\n",
    "\n",
    "# Eksempel-tekst\n",
    "eksempel = \"Hr. og fru Dursley fra Ligustervænget nummer fire var ganske stolte over, at de var helt og aldeles normale. Det var de sidste mennesker, man ville mistænke for at være involveret i mærkelige eller mystiske affærer. De var ganske enkelt af den type mennesker, som ikke tolererer nogen slinger i valsen, hvad ordentlig livsførelse angår.\"\n",
    "\n",
    "# Teksteksemplet transformeres til et nlp-objekt\n",
    "eksempelNlp = nlp(eksempel)"
   ]
  },
  {
   "cell_type": "markdown",
   "metadata": {},
   "source": [
    "# Funktion der returnerer forfelt som string\n",
    "- Funktionen tager et SpaCy-nlp-object som input.\n",
    "- Fuktionen kan anvendes med .apply() på en data-frame\n"
   ]
  },
  {
   "cell_type": "code",
   "execution_count": 12,
   "metadata": {},
   "outputs": [],
   "source": [
    "def forfelt(nlpobject):\n",
    "    forfeltStr = []\n",
    "    for id, s in enumerate(nlpobject.sents):\n",
    "        vid = []\n",
    "        for i,w in enumerate(s):\n",
    "            if w.pos_ == \"VERB\" or w.pos_ == \"AUX\":\n",
    "                vid.append(i)\n",
    "        forfelt = []\n",
    "        for i,w in enumerate(s):\n",
    "            if len(vid) > 0:\n",
    "                fvi = vid[0]\n",
    "                if i < fvi:\n",
    "                    forfelt.append(w)\n",
    "        forfelt_ord = []\n",
    "        for w in forfelt:\n",
    "            forfelt_ord.append(w.text)\n",
    "        lst = \" \".join(forfelt_ord)\n",
    "        forfeltStr.append(lst) \n",
    "    return(forfeltStr)"
   ]
  },
  {
   "cell_type": "code",
   "execution_count": 13,
   "metadata": {},
   "outputs": [
    {
     "data": {
      "text/plain": [
       "['Hr. og fru Dursley fra Ligustervænget nummer fire', 'Det', 'De']"
      ]
     },
     "execution_count": 13,
     "metadata": {},
     "output_type": "execute_result"
    }
   ],
   "source": [
    "forfelt(eksempelNlp)"
   ]
  },
  {
   "cell_type": "code",
   "execution_count": null,
   "metadata": {},
   "outputs": [],
   "source": []
  }
 ],
 "metadata": {
  "kernelspec": {
   "display_name": "Python 3 (ipykernel)",
   "language": "python",
   "name": "python3"
  },
  "language_info": {
   "codemirror_mode": {
    "name": "ipython",
    "version": 3
   },
   "file_extension": ".py",
   "mimetype": "text/x-python",
   "name": "python",
   "nbconvert_exporter": "python",
   "pygments_lexer": "ipython3",
   "version": "3.9.7"
  }
 },
 "nbformat": 4,
 "nbformat_minor": 4
}
